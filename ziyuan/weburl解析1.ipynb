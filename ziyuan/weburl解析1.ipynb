{
 "metadata": {
  "language_info": {
   "codemirror_mode": {
    "name": "ipython",
    "version": 3
   },
   "file_extension": ".py",
   "mimetype": "text/x-python",
   "name": "python",
   "nbconvert_exporter": "python",
   "pygments_lexer": "ipython3",
   "version": "3.7.6"
  },
  "orig_nbformat": 2,
  "kernelspec": {
   "name": "python376jvsc74a57bd0c99ed0c1f0837580b710dc477a9ab4f2b460b6d00446754495bcad68a65bc94d",
   "display_name": "Python 3.7.6 64-bit (conda)"
  }
 },
 "nbformat": 4,
 "nbformat_minor": 2,
 "cells": [
  {
   "cell_type": "code",
   "execution_count": 6,
   "metadata": {},
   "outputs": [
    {
     "output_type": "stream",
     "name": "stdout",
     "text": [
      "{连续剧,2&&动漫,4&&动作,6&&喜剧,7&&爱情,8&&科幻,9&&恐怖,10&&剧情,11&&战争,12&&国产剧,13&&欧美剧,16&&港台剧,20&&日韩剧,21&&海外剧,22&&惊悚,23&&犯罪,24&&传记,26&&冒险,27&&奇幻,28&&武侠,29&&历史,30&&音乐,31&&记录,32}\n"
     ]
    }
   ],
   "source": [
    "import re\n",
    "# wpcm解析网址\n",
    "urt='<class><ty id=\"2\">连续剧</ty><ty id=\"4\">动漫</ty><ty id=\"6\">动作</ty><ty id=\"7\">喜剧</ty><ty id=\"8\">爱情</ty><ty id=\"9\">科幻</ty><ty id=\"10\">恐怖</ty><ty id=\"11\">剧情</ty><ty id=\"12\">战争</ty><ty id=\"13\">国产剧</ty><ty id=\"16\">欧美剧</ty><ty id=\"20\">港台剧</ty><ty id=\"21\">日韩剧</ty><ty id=\"22\">海外剧</ty><ty id=\"23\">惊悚</ty><ty id=\"24\">犯罪</ty><ty id=\"26\">传记</ty><ty id=\"27\">冒险</ty><ty id=\"28\">奇幻</ty><ty id=\"29\">武侠</ty><ty id=\"30\">历史</ty><ty id=\"31\">音乐</ty><ty id=\"32\">记录</ty></class>'\n",
    "#过滤\n",
    "te = [int(s) for s in re.findall(r'\\b\\d+\\b', urt)]\n",
    "tr = re.findall('[\\u4e00-\\u9fa5]+', urt)\n",
    "#wpcm转换字典\n",
    "ty = dict(zip(tr,te))\n",
    "#结果\n",
    "resul= str(ty).replace(\" \",\"\").replace(\"':\",\",\").replace(\",'\",\"&&\").replace(\"'\",\"\")\n",
    "\n",
    "print(resul)\n",
    "## 输出后根据需要去除福利！！！\n"
   ]
  },
  {
   "cell_type": "code",
   "execution_count": null,
   "metadata": {},
   "outputs": [],
   "source": []
  }
 ]
}