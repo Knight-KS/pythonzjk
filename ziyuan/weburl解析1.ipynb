{
 "metadata": {
  "language_info": {
   "codemirror_mode": {
    "name": "ipython",
    "version": 3
   },
   "file_extension": ".py",
   "mimetype": "text/x-python",
   "name": "python",
   "nbconvert_exporter": "python",
   "pygments_lexer": "ipython3",
   "version": "3.8.3-final"
  },
  "orig_nbformat": 2,
  "kernelspec": {
   "name": "python3",
   "display_name": "Python 3",
   "language": "python"
  }
 },
 "nbformat": 4,
 "nbformat_minor": 2,
 "cells": [
  {
   "cell_type": "code",
   "execution_count": 3,
   "metadata": {},
   "outputs": [
    {
     "output_type": "stream",
     "name": "stdout",
     "text": [
      "{电影,1&&连续剧,2&&综艺,3&&动漫,4&&站资源,5&&动作片,6&&喜剧片,7&&爱情片,8&&科幻片,9&&恐怖片,10&&剧情片,11&&战争片,12&&国产剧,13&&港台剧,14&&日韩剧,15&&欧美剧,16&&番剧,17&&站,21&&国创,20&&惊悚片,22&&犯罪片,23&&冒险片,24&&悬疑片,25&&动画片,26&&武侠片,27&&奇幻片,29&&纪录片,30}\n"
     ]
    }
   ],
   "source": [
    "import re\n",
    "# wpcm解析网址\n",
    "urt='<class><ty id=\"1\">电影</ty><ty id=\"2\">连续剧</ty><ty id=\"3\">综艺</ty><ty id=\"4\">动漫</ty><ty id=\"5\">B站资源</ty><ty id=\"6\">动作片</ty><ty id=\"7\">喜剧片</ty><ty id=\"8\">爱情片</ty><ty id=\"9\">科幻片</ty><ty id=\"10\">恐怖片</ty><ty id=\"11\">剧情片</ty><ty id=\"12\">战争片</ty><ty id=\"13\">国产剧</ty><ty id=\"14\">港台剧</ty><ty id=\"15\">日韩剧</ty><ty id=\"16\">欧美剧</ty><ty id=\"17\">番剧（B站）</ty><ty id=\"18\">国创（B站）</ty><ty id=\"20\">惊悚片</ty><ty id=\"21\">犯罪片</ty><ty id=\"22\">冒险片</ty><ty id=\"23\">悬疑片</ty><ty id=\"24\">动画片</ty><ty id=\"25\">武侠片</ty><ty id=\"26\">奇幻片</ty><ty id=\"27\">纪录片</ty><ty id=\"29\">电影（B站）</ty><ty id=\"30\">电视剧（B站）</ty></class>'\n",
    "#过滤\n",
    "te = [int(s) for s in re.findall(r'\\b\\d+\\b', urt)]\n",
    "tr = re.findall('[\\u4e00-\\u9fa5]+', urt)\n",
    "#wpcm转换字典\n",
    "ty = dict(zip(tr,te))\n",
    "#结果\n",
    "resul= str(ty).replace(\" \",\"\").replace(\"':\",\",\").replace(\",'\",\"&&\").replace(\"'\",\"\")\n",
    "\n",
    "print(resul)\n",
    "## 输出后根据需要去除福利！！！\n"
   ]
  },
  {
   "cell_type": "code",
   "execution_count": null,
   "metadata": {},
   "outputs": [],
   "source": []
  }
 ]
}